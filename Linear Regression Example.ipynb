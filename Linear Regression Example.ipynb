{
 "cells": [
  {
   "cell_type": "markdown",
   "metadata": {},
   "source": [
    "# Machine Learning in TensorFlow Template"
   ]
  },
  {
   "cell_type": "markdown",
   "metadata": {},
   "source": [
    "## Import TensorFlow"
   ]
  },
  {
   "cell_type": "code",
   "execution_count": 39,
   "metadata": {
    "collapsed": true
   },
   "outputs": [],
   "source": [
    "import tensorflow as tf"
   ]
  },
  {
   "cell_type": "markdown",
   "metadata": {},
   "source": [
    "## Setup variables"
   ]
  },
  {
   "cell_type": "code",
   "execution_count": 40,
   "metadata": {
    "collapsed": true
   },
   "outputs": [],
   "source": [
    "# Setup variables here\n",
    "W = tf.Variable(tf.zeros([2, 1]), name=\"weights\")\n",
    "b = tf.Variable(0., name=\"bias\")\n",
    "\n",
    "def inputs():\n",
    "    weight_age = [[84, 46], [73, 20], [65, 52]]\n",
    "    blood_fat_content = [354, 190, 405]\n",
    "    return tf.to_float(weight_age), tf.to_float(blood_fat_content)"
   ]
  },
  {
   "cell_type": "markdown",
   "metadata": {},
   "source": [
    "## Define the training loop operations"
   ]
  },
  {
   "cell_type": "code",
   "execution_count": 41,
   "metadata": {},
   "outputs": [],
   "source": [
    "def inference(X):\n",
    "    return tf.matmul(X, W) + b"
   ]
  },
  {
   "cell_type": "code",
   "execution_count": 42,
   "metadata": {},
   "outputs": [],
   "source": [
    "def loss(X, Y):\n",
    "    Y_predicted = inference(X)\n",
    "    return tf.reduce_sum(tf.squared_difference(Y, Y_predicted))"
   ]
  },
  {
   "cell_type": "code",
   "execution_count": 43,
   "metadata": {
    "collapsed": true
   },
   "outputs": [],
   "source": [
    "def train(total_loss):\n",
    "    learning_rate = 0.0000001\n",
    "    return tf.train.GradientDescentOptimizer(learning_rate).minimize(total_loss)"
   ]
  },
  {
   "cell_type": "code",
   "execution_count": 44,
   "metadata": {},
   "outputs": [],
   "source": [
    "def evaluate(sess, X, Y):\n",
    "    print(sess.run(inference([[80., 25.]])))"
   ]
  },
  {
   "cell_type": "markdown",
   "metadata": {},
   "source": [
    "## Setup Session"
   ]
  },
  {
   "cell_type": "code",
   "execution_count": 45,
   "metadata": {},
   "outputs": [
    {
     "name": "stdout",
     "output_type": "stream",
     "text": [
      "WARNING:tensorflow:From <ipython-input-45-d6c14337fcdc>:2: initialize_all_variables (from tensorflow.python.ops.variables) is deprecated and will be removed after 2017-03-02.\n",
      "Instructions for updating:\n",
      "Use `tf.global_variables_initializer` instead.\n",
      "loss:  [953695.38]\n",
      "loss:  [756758.56]\n",
      "loss:  [604525.25]\n",
      "loss:  [486847.25]\n",
      "loss:  [395880.5]\n",
      "loss:  [325561.19]\n",
      "loss:  [271202.34]\n",
      "loss:  [229180.91]\n",
      "loss:  [196696.14]\n",
      "loss:  [171583.17]\n",
      "loss:  [152168.5]\n",
      "loss:  [137158.73]\n",
      "loss:  [125553.86]\n",
      "loss:  [116580.96]\n",
      "loss:  [109642.56]\n",
      "loss:  [104276.89]\n",
      "loss:  [100126.91]\n",
      "loss:  [96916.672]\n",
      "loss:  [94432.852]\n",
      "loss:  [92510.547]\n",
      "loss:  [91022.359]\n",
      "loss:  [89869.68]\n",
      "loss:  [88976.422]\n",
      "loss:  [88283.695]\n",
      "loss:  [87745.984]\n",
      "loss:  [87328.109]\n",
      "loss:  [87002.867]\n",
      "loss:  [86749.289]\n",
      "loss:  [86551.078]\n",
      "loss:  [86395.703]\n",
      "loss:  [86273.438]\n",
      "loss:  [86176.797]\n",
      "loss:  [86099.938]\n",
      "loss:  [86038.438]\n",
      "loss:  [85988.773]\n",
      "loss:  [85948.305]\n",
      "loss:  [85914.938]\n",
      "loss:  [85887.094]\n",
      "loss:  [85863.5]\n",
      "loss:  [85843.242]\n",
      "loss:  [85825.531]\n",
      "loss:  [85809.844]\n",
      "loss:  [85795.703]\n",
      "loss:  [85782.797]\n",
      "loss:  [85770.844]\n",
      "loss:  [85759.625]\n",
      "loss:  [85749.0]\n",
      "loss:  [85738.852]\n",
      "loss:  [85729.078]\n",
      "loss:  [85719.594]\n",
      "loss:  [85710.375]\n",
      "loss:  [85701.336]\n",
      "loss:  [85692.477]\n",
      "loss:  [85683.758]\n",
      "loss:  [85675.156]\n",
      "loss:  [85666.664]\n",
      "loss:  [85658.25]\n",
      "loss:  [85649.938]\n",
      "loss:  [85641.68]\n",
      "loss:  [85633.5]\n",
      "loss:  [85625.391]\n",
      "loss:  [85617.344]\n",
      "loss:  [85609.344]\n",
      "loss:  [85601.406]\n",
      "loss:  [85593.516]\n",
      "loss:  [85585.688]\n",
      "loss:  [85577.898]\n",
      "loss:  [85570.172]\n",
      "loss:  [85562.484]\n",
      "loss:  [85554.852]\n",
      "loss:  [85547.266]\n",
      "loss:  [85539.711]\n",
      "loss:  [85532.234]\n",
      "loss:  [85524.781]\n",
      "loss:  [85517.391]\n",
      "loss:  [85510.039]\n",
      "loss:  [85502.727]\n",
      "loss:  [85495.469]\n",
      "loss:  [85488.234]\n",
      "loss:  [85481.062]\n",
      "loss:  [85473.938]\n",
      "loss:  [85466.859]\n",
      "loss:  [85459.805]\n",
      "loss:  [85452.805]\n",
      "loss:  [85445.859]\n",
      "loss:  [85438.938]\n",
      "loss:  [85432.07]\n",
      "loss:  [85425.234]\n",
      "loss:  [85418.445]\n",
      "loss:  [85411.703]\n",
      "loss:  [85405.008]\n",
      "loss:  [85398.352]\n",
      "loss:  [85391.727]\n",
      "loss:  [85385.141]\n",
      "loss:  [85378.594]\n",
      "loss:  [85372.086]\n",
      "loss:  [85365.648]\n",
      "loss:  [85359.211]\n",
      "loss:  [85352.828]\n",
      "loss:  [85346.484]\n",
      "[[ 311.62060547]]\n"
     ]
    }
   ],
   "source": [
    "with tf.Session() as sess:\n",
    "    tf.initialize_all_variables().run()\n",
    "    X, Y = inputs()\n",
    "    \n",
    "    total_loss = loss(X, Y)\n",
    "    train_op = train(total_loss)\n",
    "    \n",
    "    coord = tf.train.Coordinator()\n",
    "    threads = tf.train.start_queue_runners(sess=sess, coord=coord)\n",
    "    \n",
    "    # Training loop\n",
    "    training_steps = 1000\n",
    "    for step in range(training_steps):\n",
    "        sess.run([train_op])\n",
    "    evaluate(sess, X, Y)\n",
    "    \n",
    "    coord.request_stop()\n",
    "    coord.join(threads)\n",
    "    sess.close()"
   ]
  }
 ],
 "metadata": {
  "kernelspec": {
   "display_name": "Python 3",
   "language": "python",
   "name": "python3"
  },
  "language_info": {
   "codemirror_mode": {
    "name": "ipython",
    "version": 3
   },
   "file_extension": ".py",
   "mimetype": "text/x-python",
   "name": "python",
   "nbconvert_exporter": "python",
   "pygments_lexer": "ipython3",
   "version": "3.5.2"
  }
 },
 "nbformat": 4,
 "nbformat_minor": 2
}
